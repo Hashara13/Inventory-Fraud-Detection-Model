{
 "cells": [
  {
   "cell_type": "code",
   "execution_count": null,
   "metadata": {},
   "outputs": [],
   "source": [
    "import pandas as pd\n",
    "from sklearn.ensemble import RandomForestClassifier\n",
    "from sklearn.model_selection import train_test_split\n",
    "from sklearn.metrics import classification_report, roc_auc_score\n",
    "import numpy as np\n",
    "import joblib\n",
    "\n",
    "data = pd.read_csv('../data/processed/merged_inventory.csv')\n",
    "\n",
    "\n",
    "\n",
    "np.random.seed(42)\n",
    "data['Fraud_Flag'] = np.random.randint(0, 2, size=len(data))\n",
    "\n",
    "features = ['Discrepancy', 'Days_Since_Adjustment']\n",
    "target = 'Fraud_Flag'\n",
    "\n",
    "X_train, X_test, y_train, y_test = train_test_split(data[features], data[target], test_size=0.2, random_state=42)\n",
    "\n",
    "model = RandomForestClassifier(n_estimators=100, random_state=42)\n",
    "model.fit(X_train, y_train)\n",
    "\n",
    "y_pred = model.predict(X_test)\n",
    "print(classification_report(y_test, y_pred))\n",
    "print(\"ROC AUC Score:\", roc_auc_score(y_test, y_pred))\n",
    "\n",
    "# Save the model\n",
    "joblib.dump(model, '../models/fraud_detection_model.pkl')\n"
   ]
  },
  {
   "cell_type": "code",
   "execution_count": null,
   "metadata": {},
   "outputs": [],
   "source": []
  }
 ],
 "metadata": {
  "language_info": {
   "name": "python"
  }
 },
 "nbformat": 4,
 "nbformat_minor": 2
}
